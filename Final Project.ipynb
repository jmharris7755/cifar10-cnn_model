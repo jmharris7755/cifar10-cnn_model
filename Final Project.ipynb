{
 "cells": [
  {
   "cell_type": "code",
   "execution_count": 1,
   "metadata": {
    "scrolled": true
   },
   "outputs": [],
   "source": [
    "#Justin Harris\n",
    "#CS 477-441\n",
    "#Final Project Code\n",
    "        \n",
    "from __future__ import print_function\n",
    "import keras\n",
    "import tensorflow as tf\n",
    "from keras.utils import np_utils\n",
    "from keras import backend as K\n",
    "from keras.datasets import cifar10\n",
    "from keras.preprocessing.image import ImageDataGenerator\n",
    "from keras.models import Sequential\n",
    "from keras.layers import Dense, Dropout, Activation, Flatten\n",
    "from keras.layers import Conv2D, MaxPooling2D\n",
    "import os\n",
    "import numpy as np\n",
    "import seaborn as sns\n",
    "import matplotlib\n",
    "import matplotlib.pyplot as plt\n",
    "from sklearn.metrics import confusion_matrix, classification_report\n",
    "import itertools\n",
    "%matplotlib inline"
   ]
  },
  {
   "cell_type": "code",
   "execution_count": 2,
   "metadata": {},
   "outputs": [],
   "source": [
    "#default Keras batch size\n",
    "batch_size = 32\n",
    "\n",
    "#number of classes in dataset\n",
    "class_num = 10\n",
    "\n",
    "epochs = 100\n",
    "data_augmentation = False"
   ]
  },
  {
   "cell_type": "code",
   "execution_count": 3,
   "metadata": {},
   "outputs": [
    {
     "name": "stdout",
     "output_type": "stream",
     "text": [
      "X_train Shape:  (50000, 32, 32, 3)\n",
      "y_train.shape:  (50000, 1)\n",
      "50000 training samples\n",
      "10000 test samples\n"
     ]
    }
   ],
   "source": [
    "#Import and pre-process the data\n",
    "(X_train, y_train), (X_test, y_test) = cifar10.load_data()\n",
    "print('X_train Shape: ', X_train.shape)\n",
    "print('y_train.shape: ', y_train.shape)\n",
    "print(X_train.shape[0], 'training samples')\n",
    "print(X_test.shape[0], 'test samples')"
   ]
  },
  {
   "cell_type": "code",
   "execution_count": 4,
   "metadata": {},
   "outputs": [
    {
     "name": "stderr",
     "output_type": "stream",
     "text": [
      "C:\\Users\\Justin\\anaconda3\\envs\\tensorflow-gpu\\lib\\site-packages\\seaborn\\_decorators.py:36: FutureWarning: Pass the following variable as a keyword arg: x. From version 0.12, the only valid positional argument will be `data`, and passing other arguments without an explicit keyword will result in an error or misinterpretation.\n",
      "  warnings.warn(\n",
      "C:\\Users\\Justin\\anaconda3\\envs\\tensorflow-gpu\\lib\\site-packages\\seaborn\\_decorators.py:36: FutureWarning: Pass the following variable as a keyword arg: x. From version 0.12, the only valid positional argument will be `data`, and passing other arguments without an explicit keyword will result in an error or misinterpretation.\n",
      "  warnings.warn(\n"
     ]
    },
    {
     "data": {
      "image/png": "[encoded data removed]",
      "text/plain": [
       "<Figure size 1080x360 with 2 Axes>"
      ]
     },
     "metadata": {
      "needs_background": "light"
     },
     "output_type": "display_data"
    }
   ],
   "source": [
    "# Data distribution code sourced from: https://www.kaggle.com/roblexnana/cifar10-with-cnn-for-beginer\n",
    "# Data distribution\n",
    "fig, axis = plt.subplots(1, 2, figsize = (15,5))\n",
    "\n",
    "#Count plot for training set\n",
    "sns.countplot(y_train.ravel(), ax=axis[0])\n",
    "axis[0].set_title('Distribution of training data')\n",
    "axis[0].set_xlabel('Classes')\n",
    "\n",
    "#Count plot for test set\n",
    "sns.countplot(y_test.ravel(), ax=axis[1])\n",
    "axis[1].set_title('Distribution of test data')\n",
    "axis[1].set_xlabel('Classes')\n",
    "\n",
    "plt.show()"
   ]
  },
  {
   "cell_type": "code",
   "execution_count": 5,
   "metadata": {},
   "outputs": [],
   "source": [
    "# Convert data to float type and Normalize data\n",
    "\n",
    "X_train = X_train.astype('float32')\n",
    "X_test = X_test.astype('float32')\n",
    "\n",
    "#Normalize data to be between 0 and 1\n",
    "X_train /= 255\n",
    "X_test /= 255\n",
    "\n",
    "# Convert vectors to binary class matricies\n",
    "y_train = keras.utils.np_utils.to_categorical(y_train, class_num)\n",
    "y_test = keras.utils.np_utils.to_categorical(y_test, class_num)"
   ]
  },
  {
   "cell_type": "code",
   "execution_count": 6,
   "metadata": {
    "scrolled": true
   },
   "outputs": [],
   "source": [
    "# Define Deep Net using Convnet  architecture\n",
    "# Model based off of https://www.kaggle.com/roblexnana/cifar10-with-cnn-for-beginer, and\n",
    "# https://www.kaggle.com/datajameson/cifar-10-object-recognition-cnn-explained\n",
    "\n",
    "def myCNN():\n",
    "\n",
    "    CNN_model = keras.models.Sequential()\n",
    "\n",
    "    # First Conv layer\n",
    "    CNN_model.add(Conv2D(32, (3, 3), padding='same', input_shape = X_train.shape[1:]))\n",
    "    CNN_model.add(Activation('relu'))\n",
    "\n",
    "    # 2nd Conv layer\n",
    "    CNN_model.add(Conv2D(32, (3, 3)))\n",
    "    CNN_model.add(Activation('relu'))\n",
    "\n",
    "    # Use Max-pooling and drop out to help reduce over-fitting and training time\n",
    "    CNN_model.add(MaxPooling2D(pool_size = (2, 2)))\n",
    "    CNN_model.add(Dropout(0.25))\n",
    "\n",
    "    # 3rd Conv Layer\n",
    "    CNN_model.add(Conv2D(64, (3, 3), padding='same'))\n",
    "    CNN_model.add(Activation('relu'))\n",
    "\n",
    "    #4th Conv Layer\n",
    "    CNN_model.add(Conv2D(64, (3, 3)))\n",
    "    CNN_model.add(Activation('relu'))\n",
    "\n",
    "    # Use Max-pooling and drop out to help reduce over-fitting and training time\n",
    "    CNN_model.add(MaxPooling2D(pool_size = (2, 2)))\n",
    "    CNN_model.add(Dropout(0.25))\n",
    "\n",
    "    #5th Conv Layer\n",
    "    CNN_model.add(Flatten())\n",
    "    CNN_model.add(Dense(512))\n",
    "    CNN_model.add(Activation('relu'))\n",
    "    CNN_model.add(Dropout(0.5))\n",
    "\n",
    "    #softmax classifier\n",
    "    CNN_model.add(Dense(class_num))\n",
    "    CNN_model.add(Activation('softmax'))\n",
    "\n",
    "\n",
    "    \n",
    "    return CNN_model\n"
   ]
  },
  {
   "cell_type": "code",
   "execution_count": 7,
   "metadata": {
    "scrolled": true
   },
   "outputs": [
    {
     "name": "stdout",
     "output_type": "stream",
     "text": [
      "Model: \"sequential\"\n",
      "_________________________________________________________________\n",
      "Layer (type)                 Output Shape              Param #   \n",
      "=================================================================\n",
      "conv2d (Conv2D)              (None, 32, 32, 32)        896       \n",
      "_________________________________________________________________\n",
      "activation (Activation)      (None, 32, 32, 32)        0         \n",
      "_________________________________________________________________\n",
      "conv2d_1 (Conv2D)            (None, 30, 30, 32)        9248      \n",
      "_________________________________________________________________\n",
      "activation_1 (Activation)    (None, 30, 30, 32)        0         \n",
      "_________________________________________________________________\n",
      "max_pooling2d (MaxPooling2D) (None, 15, 15, 32)        0         \n",
      "_________________________________________________________________\n",
      "dropout (Dropout)            (None, 15, 15, 32)        0         \n",
      "_________________________________________________________________\n",
      "conv2d_2 (Conv2D)            (None, 15, 15, 64)        18496     \n",
      "_________________________________________________________________\n",
      "activation_2 (Activation)    (None, 15, 15, 64)        0         \n",
      "_________________________________________________________________\n",
      "conv2d_3 (Conv2D)            (None, 13, 13, 64)        36928     \n",
      "_________________________________________________________________\n",
      "activation_3 (Activation)    (None, 13, 13, 64)        0         \n",
      "_________________________________________________________________\n",
      "max_pooling2d_1 (MaxPooling2 (None, 6, 6, 64)          0         \n",
      "_________________________________________________________________\n",
      "dropout_1 (Dropout)          (None, 6, 6, 64)          0         \n",
      "_________________________________________________________________\n",
      "flatten (Flatten)            (None, 2304)              0         \n",
      "_________________________________________________________________\n",
      "dense (Dense)                (None, 512)               1180160   \n",
      "_________________________________________________________________\n",
      "activation_4 (Activation)    (None, 512)               0         \n",
      "_________________________________________________________________\n",
      "dropout_2 (Dropout)          (None, 512)               0         \n",
      "_________________________________________________________________\n",
      "dense_1 (Dense)              (None, 10)                5130      \n",
      "_________________________________________________________________\n",
      "activation_5 (Activation)    (None, 10)                0         \n",
      "=================================================================\n",
      "Total params: 1,250,858\n",
      "Trainable params: 1,250,858\n",
      "Non-trainable params: 0\n",
      "_________________________________________________________________\n"
     ]
    }
   ],
   "source": [
    "cnn1 = myCNN()\n",
    "cnn1.summary()"
   ]
  },
  {
   "cell_type": "code",
   "execution_count": null,
   "metadata": {
    "scrolled": true
   },
   "outputs": [
    {
     "name": "stderr",
     "output_type": "stream",
     "text": [
      "C:\\Users\\Justin\\anaconda3\\envs\\tensorflow-gpu\\lib\\site-packages\\keras\\optimizer_v2\\optimizer_v2.py:355: UserWarning: The `lr` argument is deprecated, use `learning_rate` instead.\n",
      "  warnings.warn(\n"
     ]
    },
    {
     "name": "stdout",
     "output_type": "stream",
     "text": [
      "Training Model:\n",
      "Epoch 1/100\n",
      "1563/1563 [==============================] - 24s 6ms/step - loss: 1.7395 - accuracy: 0.3615 - val_loss: 1.4851 - val_accuracy: 0.4715\n",
      "Epoch 2/100\n",
      "1563/1563 [==============================] - 9s 6ms/step - loss: 1.4351 - accuracy: 0.4834 - val_loss: 1.2931 - val_accuracy: 0.5417\n",
      "Epoch 3/100\n",
      "1563/1563 [==============================] - 9s 6ms/step - loss: 1.3056 - accuracy: 0.5331 - val_loss: 1.1856 - val_accuracy: 0.5839\n",
      "Epoch 4/100\n",
      "1563/1563 [==============================] - 9s 6ms/step - loss: 1.2104 - accuracy: 0.5699 - val_loss: 1.1051 - val_accuracy: 0.6090\n",
      "Epoch 5/100\n",
      "1563/1563 [==============================] - 9s 6ms/step - loss: 1.1333 - accuracy: 0.6006 - val_loss: 1.0389 - val_accuracy: 0.6391\n",
      "Epoch 6/100\n",
      "1563/1563 [==============================] - 9s 6ms/step - loss: 1.0646 - accuracy: 0.6250 - val_loss: 0.9810 - val_accuracy: 0.6646\n",
      "Epoch 7/100\n",
      "1563/1563 [==============================] - 9s 6ms/step - loss: 1.0089 - accuracy: 0.6463 - val_loss: 0.9271 - val_accuracy: 0.6806\n",
      "Epoch 8/100\n",
      "1563/1563 [==============================] - 9s 6ms/step - loss: 0.9597 - accuracy: 0.6621 - val_loss: 0.9300 - val_accuracy: 0.6822\n",
      "Epoch 9/100\n",
      "1563/1563 [==============================] - 9s 6ms/step - loss: 0.9156 - accuracy: 0.6779 - val_loss: 0.8477 - val_accuracy: 0.7088\n",
      "Epoch 10/100\n",
      "1280/1563 [=======================>......] - ETA: 1s - loss: 0.8861 - accuracy: 0.6921"
     ]
    }
   ],
   "source": [
    "# Build and Adam Train model\n",
    "adam_opt = tf.keras.optimizers.Adam(lr = .0001)\n",
    "cnn1.compile(loss = 'categorical_crossentropy',\n",
    "              optimizer = adam_opt, metrics = ['accuracy'])\n",
    "\n",
    "             \n",
    "print('Training Model:')\n",
    "history1 = cnn1.fit(X_train, y_train,\n",
    "                        batch_size = batch_size,\n",
    "                        epochs = epochs,\n",
    "                        validation_data = (X_test, y_test),\n",
    "                        shuffle = True)\n",
    "    "
   ]
  },
  {
   "cell_type": "code",
   "execution_count": null,
   "metadata": {},
   "outputs": [],
   "source": [
    "cnn1.save(\"ADAM.h5\")\n",
    "\n",
    "#Plot for model accuracy and loss for evaluation\n",
    "def modelplot(history):\n",
    "    fig, axis = plt.subplots(1, 2, figsize = (15, 5))\n",
    "    \n",
    "    #summarize accuracy\n",
    "    axis[0].plot(history.history['accuracy'])\n",
    "    axis[0].plot(history.history['val_accuracy'])\n",
    "    axis[0].set_title('Model Accuracy')\n",
    "    axis[0].set_ylabel('Accuracy')\n",
    "    axis[0].set_xlabel('Epoch')\n",
    "    axis[0].legend(['train', 'validate'], loc = 'upper left')\n",
    "    \n",
    "    #summarize loss\n",
    "    axis[1].plot(history.history['loss'])\n",
    "    axis[1].plot(history.history['val_loss'])\n",
    "    axis[1].set_title('Model Loss')\n",
    "    axis[1].set_ylabel('Loss')\n",
    "    axis[1].set_xlabel('Epoch')\n",
    "    axis[1].legend(['train', 'validate'], loc = 'upper left')\n",
    "    fig.savefig('Accuracy_Loss.png')\n",
    "    \n",
    "#list data in model history\n",
    "print(history1.history.keys())\n",
    "    \n",
    "#plot model and loss\n",
    "modelplot(history1)"
   ]
  },
  {
   "cell_type": "code",
   "execution_count": null,
   "metadata": {},
   "outputs": [],
   "source": [
    "# Score model\n",
    "CNN_score1 = cnn1.evaluate(X_test, y_test, verbose = 1)\n",
    "print('Test Loss: ', CNN_score1[0])\n",
    "print('Test Acc: ', CNN_score1[1])\n",
    "\n",
    "#prediction\n",
    "pred = cnn1.predict(X_test)"
   ]
  },
  {
   "cell_type": "code",
   "execution_count": null,
   "metadata": {},
   "outputs": [],
   "source": [
    "#reset Keras object after training model\n",
    "K.clear_session()\n",
    "\n",
    "cnn2 = myCNN()\n",
    "\n",
    "#set rms_optimizer\n",
    "rms_opt = keras.optimizers.RMSprop(lr = 0.0001)\n",
    "\n",
    "#Build and train RMSprop model\n",
    "cnn2.compile(loss = 'categorical_crossentropy',\n",
    "                optimizer = rms_opt,\n",
    "                metrics = ['accuracy'])\n",
    "                  \n",
    "print('Training Model:')\n",
    "history2 = cnn2.fit(X_train, y_train,\n",
    "                        batch_size = batch_size,\n",
    "                        epochs = epochs,\n",
    "                        validation_data = (X_test, y_test),\n",
    "                        shuffle = True)"
   ]
  },
  {
   "cell_type": "code",
   "execution_count": null,
   "metadata": {},
   "outputs": [],
   "source": [
    "cnn2.save(\"RMSprop.h5\")\n",
    "    \n",
    "#list data in model history\n",
    "print(history2.history.keys())\n",
    "    \n",
    "#plot model and loss\n",
    "modelplot(history2)"
   ]
  },
  {
   "cell_type": "code",
   "execution_count": null,
   "metadata": {},
   "outputs": [],
   "source": [
    "# Score model\n",
    "CNN_score2 = cnn2.evaluate(X_test, y_test, verbose = 1)\n",
    "print('Test Loss: ', CNN_score2[0])\n",
    "print('Test Acc: ', CNN_score2[1])\n",
    "\n",
    "#prediction\n",
    "pred = cnn2.predict(X_test)"
   ]
  }
 ],
 "metadata": {
  "kernelspec": {
   "display_name": "Python 3",
   "language": "python",
   "name": "python3"
  },
  "language_info": {
   "codemirror_mode": {
    "name": "ipython",
    "version": 3
   },
   "file_extension": ".py",
   "mimetype": "text/x-python",
   "name": "python",
   "nbconvert_exporter": "python",
   "pygments_lexer": "ipython3",
   "version": "3.8.8"
  }
 },
 "nbformat": 4,
 "nbformat_minor": 4
}
